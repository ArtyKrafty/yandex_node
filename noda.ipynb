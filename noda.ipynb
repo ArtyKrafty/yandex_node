{
 "cells": [
  {
   "cell_type": "code",
   "execution_count": 18,
   "metadata": {},
   "outputs": [],
   "source": [
    "import requests\n",
    "import json"
   ]
  },
  {
   "cell_type": "code",
   "execution_count": 14,
   "metadata": {},
   "outputs": [],
   "source": [
    "from transformers import T5ForConditionalGeneration, T5Tokenizer\n",
    "import torch\n",
    "import pandas as pd\n",
    "from typing import List\n",
    "\n",
    "# https://huggingface.co/cointegrated/rut5-base-absum \n",
    "\n",
    "def summarize(tokenizer, model,\n",
    "    text, n_words=None, compression=None,\n",
    "    max_length=1000, num_beams=3, do_sample=False, repetition_penalty=10.0, \n",
    "    **kwargs\n",
    "):\n",
    "    \"\"\"\n",
    "    Summarize the text\n",
    "    The following parameters are mutually exclusive:\n",
    "    - n_words (int) is an approximate number of words to generate.\n",
    "    - compression (float) is an approximate length ratio of summary and original text.\n",
    "    \"\"\"\n",
    "    if n_words:\n",
    "        text = '[{}] '.format(n_words) + text\n",
    "    elif compression:\n",
    "        text = '[{0:.1g}] '.format(compression) + text\n",
    "    x = tokenizer(text, return_tensors='pt', padding=True).to(model.device)\n",
    "    with torch.inference_mode():\n",
    "        out = model.generate(\n",
    "            **x, \n",
    "            max_length=max_length, num_beams=num_beams, \n",
    "            do_sample=do_sample, repetition_penalty=repetition_penalty, \n",
    "            **kwargs\n",
    "        )\n",
    "    return tokenizer.decode(out[0], skip_special_tokens=True)\n",
    "\n",
    "\n",
    "def summarize_news(input: List[str]) -> List:\n",
    "    '''суммаризация'''\n",
    "    MODEL_NAME = 'cointegrated/rut5-base-absum'\n",
    "    model = T5ForConditionalGeneration.from_pretrained(MODEL_NAME)\n",
    "    tokenizer = T5Tokenizer.from_pretrained(MODEL_NAME)\n",
    "    device = 'cuda' if torch.cuda.is_available() else 'cpu'\n",
    "    model.to(device)\n",
    "    model.eval()\n",
    "\n",
    "    preds = []\n",
    "    news = pd.read_csv(input[0])[\"inputs\"].tolist()\n",
    "    for rec in news:\n",
    "        summary = summarize(tokenizer, model, rec)\n",
    "        preds.append(summary)\n",
    "\n",
    "    return preds"
   ]
  },
  {
   "cell_type": "code",
   "execution_count": 15,
   "metadata": {},
   "outputs": [
    {
     "data": {
      "text/html": [
       "<div>\n",
       "<style scoped>\n",
       "    .dataframe tbody tr th:only-of-type {\n",
       "        vertical-align: middle;\n",
       "    }\n",
       "\n",
       "    .dataframe tbody tr th {\n",
       "        vertical-align: top;\n",
       "    }\n",
       "\n",
       "    .dataframe thead th {\n",
       "        text-align: right;\n",
       "    }\n",
       "</style>\n",
       "<table border=\"1\" class=\"dataframe\">\n",
       "  <thead>\n",
       "    <tr style=\"text-align: right;\">\n",
       "      <th></th>\n",
       "      <th>inputs</th>\n",
       "    </tr>\n",
       "  </thead>\n",
       "  <tbody>\n",
       "    <tr>\n",
       "      <th>0</th>\n",
       "      <td>Мероприятие началось с одноименной песенки о д...</td>\n",
       "    </tr>\n",
       "    <tr>\n",
       "      <th>1</th>\n",
       "      <td>Амурский тигр и дальневосточный леопард практи...</td>\n",
       "    </tr>\n",
       "  </tbody>\n",
       "</table>\n",
       "</div>"
      ],
      "text/plain": [
       "                                              inputs\n",
       "0  Мероприятие началось с одноименной песенки о д...\n",
       "1  Амурский тигр и дальневосточный леопард практи..."
      ]
     },
     "execution_count": 15,
     "metadata": {},
     "output_type": "execute_result"
    }
   ],
   "source": [
    "URL = [\"https://drive.google.com/uc?id=1ki7iNkXGdQ7lSmnze5Ox9CPzHWvvtCQ_\"]\n",
    "\n",
    "df = pd.read_csv(URL[0])\n",
    "df.head()"
   ]
  },
  {
   "cell_type": "code",
   "execution_count": 16,
   "metadata": {},
   "outputs": [
    {
     "data": {
      "text/plain": [
       "['Встреча началась с песенки о дружбе. Участники встречи отвечали на вопросы викторины, рассказывали пословицы о дружбе.',\n",
       " 'Амурский тигр и дальневосточный леопард спасены от угрозы полного исчезновения.']"
      ]
     },
     "execution_count": 16,
     "metadata": {},
     "output_type": "execute_result"
    }
   ],
   "source": [
    "summarize_news(URL)"
   ]
  },
  {
   "cell_type": "markdown",
   "metadata": {},
   "source": [
    "```python\n",
    "\n",
    "curl https://datasphere.api.cloud.yandex.net/datasphere/v1/nodes/<node_id>:execute \\\n",
    "   -X POST \\\n",
    "   -H \"Authorization: Bearer <iam_token>\"\n",
    "   -d '{\n",
    "      \"folder_id\": \"<folder_id>\",\n",
    "      \"node_id\": \"<node_id>\",\n",
    "      \"input\": { <input_variables> }\n",
    "   }'\n",
    "\n",
    "```"
   ]
  },
  {
   "cell_type": "code",
   "execution_count": 49,
   "metadata": {},
   "outputs": [],
   "source": [
    "token = \"\"\n",
    "TOKEN = f\"{token}\"\n",
    "NODE_ID = \"\"\n",
    "FOLDER_ID = \"\"\n",
    "BASE_URL = f\"https://datasphere.api.cloud.yandex.net/datasphere/v1/nodes/{NODE_ID}:execute\"\n",
    "body = {\n",
    "\n",
    "        \"folderId\": f\"{FOLDER_ID}\",\n",
    "        \"input\": {\"inputs\": URL}\n",
    "\n",
    "\n",
    "}\n",
    "\n",
    "headers = {\n",
    "\n",
    "        \"Authorization\": \"Bearer\" + TOKEN,\n",
    "        \"Content-Type\": \"appication/json\"\n",
    "\n",
    "}"
   ]
  },
  {
   "cell_type": "code",
   "execution_count": 50,
   "metadata": {},
   "outputs": [],
   "source": [
    "req = requests.post(BASE_URL, data=json.dumps(body), headers=headers)"
   ]
  },
  {
   "cell_type": "code",
   "execution_count": 51,
   "metadata": {},
   "outputs": [
    {
     "data": {
      "text/plain": [
       "<Response [200]>"
      ]
     },
     "execution_count": 51,
     "metadata": {},
     "output_type": "execute_result"
    }
   ],
   "source": [
    "req"
   ]
  },
  {
   "cell_type": "code",
   "execution_count": 54,
   "metadata": {},
   "outputs": [
    {
     "data": {
      "text/plain": [
       "['Встреча началась с песенки о дружбе. Участники встречи отвечали на вопросы викторины, рассказывали пословицы о дружбе.',\n",
       " 'Амурский тигр и дальневосточный леопард спасены от угрозы полного исчезновения.']"
      ]
     },
     "execution_count": 54,
     "metadata": {},
     "output_type": "execute_result"
    }
   ],
   "source": [
    "req.json()[\"output\"][\"outputs\"]"
   ]
  }
 ],
 "metadata": {
  "kernelspec": {
   "display_name": "Python 3.9.6 ('venv': venv)",
   "language": "python",
   "name": "python3"
  },
  "language_info": {
   "codemirror_mode": {
    "name": "ipython",
    "version": 3
   },
   "file_extension": ".py",
   "mimetype": "text/x-python",
   "name": "python",
   "nbconvert_exporter": "python",
   "pygments_lexer": "ipython3",
   "version": "3.9.6"
  },
  "orig_nbformat": 4,
  "vscode": {
   "interpreter": {
    "hash": "00791da607f6588ad10d5d1fc6df22cb678131c67df9d2a1d0e2c57c5db05286"
   }
  }
 },
 "nbformat": 4,
 "nbformat_minor": 2
}
